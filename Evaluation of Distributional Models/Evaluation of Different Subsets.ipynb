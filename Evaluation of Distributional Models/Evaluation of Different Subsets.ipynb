{
 "cells": [
  {
   "cell_type": "markdown",
   "metadata": {},
   "source": [
    "## Calculating the correlations on different subsets of EstSimLex-999\n",
    "All the correlations are calculated already, but these have to be filtered to find the average correlations. "
   ]
  },
  {
   "cell_type": "code",
   "execution_count": null,
   "metadata": {
    "collapsed": true
   },
   "outputs": [],
   "source": [
    "import pandas as pd"
   ]
  },
  {
   "cell_type": "code",
   "execution_count": null,
   "metadata": {},
   "outputs": [],
   "source": [
    "# saving all the correlations to a dataframe\n",
    "data = pd.read_excel(\"all_correlations.xlsx\")\n",
    "data.head()"
   ]
  },
  {
   "cell_type": "code",
   "execution_count": null,
   "metadata": {},
   "outputs": [],
   "source": [
    "# Correaltion on the nouns subset\n",
    "nouns = data[data[\"model\"].str.endswith(\"N\")]\n",
    "nouns.mean()"
   ]
  },
  {
   "cell_type": "code",
   "execution_count": null,
   "metadata": {},
   "outputs": [],
   "source": [
    "# Correlation on adjectives subset\n",
    "adj = data[data[\"model\"].str.endswith(\"A\")]\n",
    "adj.mean()"
   ]
  },
  {
   "cell_type": "code",
   "execution_count": null,
   "metadata": {},
   "outputs": [],
   "source": [
    "# correaltion on verbs subset\n",
    "verbs = data[data[\"model\"].str.endswith(\"V\")]\n",
    "verbs.mean()"
   ]
  },
  {
   "cell_type": "code",
   "execution_count": null,
   "metadata": {},
   "outputs": [],
   "source": [
    "# correlation on abstract subset\n",
    "ab = data[data[\"model\"].str.endswith(\"abst\")]\n",
    "ab.mean()"
   ]
  },
  {
   "cell_type": "code",
   "execution_count": null,
   "metadata": {},
   "outputs": [],
   "source": [
    "# correlation on concrete subset\n",
    "conc = data[data[\"model\"].str.endswith(\"conc\")]\n",
    "conc.mean()"
   ]
  }
 ],
 "metadata": {
  "kernelspec": {
   "display_name": "Python 3",
   "language": "python",
   "name": "python3"
  },
  "language_info": {
   "codemirror_mode": {
    "name": "ipython",
    "version": 3
   },
   "file_extension": ".py",
   "mimetype": "text/x-python",
   "name": "python",
   "nbconvert_exporter": "python",
   "pygments_lexer": "ipython3",
   "version": "3.6.3"
  }
 },
 "nbformat": 4,
 "nbformat_minor": 2
}
