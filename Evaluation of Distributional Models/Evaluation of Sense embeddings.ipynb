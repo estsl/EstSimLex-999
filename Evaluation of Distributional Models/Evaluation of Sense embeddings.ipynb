{
 "cells": [
  {
   "cell_type": "code",
   "execution_count": null,
   "metadata": {},
   "outputs": [],
   "source": [
    "import sensegram\n",
    "from __future__ import print_function\n",
    "import gensim\n",
    "print(gensim.__version__) \n",
    "import pandas as pd\n",
    "from scipy.stats import pearsonr, spearmanr, kendalltau, linregress\n",
    "import matplotlib.pyplot as plt\n",
    "import numpy as np\n",
    "from gensim.models import Word2Vec\n",
    "from gensim.test.utils import common_texts, get_tmpfile\n",
    "from gensim.models import KeyedVectors\n",
    "from gensim.models.wrappers import FastText\n",
    "import os"
   ]
  },
  {
   "cell_type": "code",
   "execution_count": null,
   "metadata": {
    "collapsed": true
   },
   "outputs": [],
   "source": [
    "def calc_results(df, missing, model, results):\n",
    "    \"\"\"\n",
    "    returns dataframe containing correlations scores\n",
    "    \n",
    "    \"\"\"\n",
    "\n",
    "    results = evaluate(df, results, \"ESL\", missing)\n",
    "    results = evaluate(df, results, \"SL\", missing)\n",
    "    return results\n",
    "    \n",
    "    \n",
    "    \n",
    "def evaluate(df, results, sim_set, model, missing):\n",
    "    \"\"\"\n",
    "     calculates correlation coefficients\n",
    "    \n",
    "    \"\"\"\n",
    "    pearson = round(pearsonr(df[sim_set], df[\"model\"])[0], 3)\n",
    "    spearman = round(spearmanr(df[sim_set], df[\"model\"])[0], 3)\n",
    "    kendall = round(kendalltau(df[sim_set], df[\"model\"])[0],3)\n",
    "    results = results.append({\"model\":model, \"sim_set\":sim_set, \"pearson\":pearson, \"spearman\":spearman, \"kendall\":kendall, \"missing\":missing},\n",
    "                            ignore_index=True)\n",
    "    return results\n"
   ]
  },
  {
   "cell_type": "code",
   "execution_count": null,
   "metadata": {},
   "outputs": [],
   "source": [
    "models = os.listdir(\"F:\\\\models\\models\")\n",
    "data = pd.read_excel(\"Ratings.xlsx\")\n",
    "results = pd.DataFrame(columns=[\"model\", \"sim_set\", \"pearson\", \"spearman\", \"kendall\", \"missing\"]) \n",
    "similarity_scores = pd.DataFrame(columns=[\"sõna1\", \"sõna2\",\"model\",\"ESL\", \"SL\"])\n",
    "\n",
    "for model in models: \n",
    "    sense_vector = \"F:\\\\models\\\\models\\\\\"+model+\"\\\\ettenten.txt.sense_vectors\"\n",
    "    sv = sensegram.SenseGram.load_word2vec_format(sense_vector, binary=False)\n",
    "    missing = 0\n",
    "    for i, row  in data.iterrows():\n",
    "        s1 = row[\"sõna 1\"]\n",
    "        s2 = row[\"sõna 2\"]\n",
    "        esl = row[\"Average\"]\n",
    "        sl = row[\"SimLex999\"]\n",
    "        \n",
    "        s1_senses = sv.get_senses(s1)\n",
    "        s2_senses = sv.get_senses(s2)\n",
    "        \n",
    "        if len(s1_senses)!=0 and len(s2_senses)!=0:\n",
    "\n",
    "            sim = sv.max_pairwise_sim(s1,s2)\n",
    "            similarity_scores = similarity_scores.append({\"sõna1\":s1, \"sõna2\":s2, \"model\":sim, \"ESL\":esl,\n",
    "                                                          \"SL\":sl}, ignore_index=True)\n",
    "\n",
    "        else:\n",
    "            missing += 1\n",
    "\n",
    "    \n",
    "    results = calc_results(similarity_scores, missing, model, results)    "
   ]
  },
  {
   "cell_type": "code",
   "execution_count": null,
   "metadata": {},
   "outputs": [],
   "source": [
    "results.to_excel(\"sense_embeddings.xlsx\")"
   ]
  }
 ],
 "metadata": {
  "kernelspec": {
   "display_name": "Python 3",
   "language": "python",
   "name": "python3"
  },
  "language_info": {
   "codemirror_mode": {
    "name": "ipython",
    "version": 3
   },
   "file_extension": ".py",
   "mimetype": "text/x-python",
   "name": "python",
   "nbconvert_exporter": "python",
   "pygments_lexer": "ipython3",
   "version": "3.6.3"
  }
 },
 "nbformat": 4,
 "nbformat_minor": 2
}
